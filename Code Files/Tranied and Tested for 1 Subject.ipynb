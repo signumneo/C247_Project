{
 "cells": [
  {
   "cell_type": "markdown",
   "metadata": {},
   "source": [
    "## Tranied and tested for 1 subject"
   ]
  },
  {
   "cell_type": "markdown",
   "metadata": {},
   "source": [
    "### Importing the necessary pakages"
   ]
  },
  {
   "cell_type": "code",
   "execution_count": 1,
   "metadata": {},
   "outputs": [],
   "source": [
    "import numpy as np\n",
    "import pandas as pd\n",
    "import keras\n",
    "from keras.models import Sequential\n",
    "from keras.layers import Dense, Activation, Flatten,Dropout\n",
    "from keras.layers import Conv2D,LSTM,BatchNormalization,MaxPooling2D,Reshape\n",
    "from keras.utils import to_categorical\n",
    "import matplotlib.pyplot as plt\n",
    "from keras.layers import LeakyReLU\n",
    "from keras.regularizers import l2\n"
   ]
  },
  {
   "cell_type": "markdown",
   "metadata": {},
   "source": [
    "### Preprocessing the given dataset"
   ]
  },
  {
   "cell_type": "code",
   "execution_count": 2,
   "metadata": {},
   "outputs": [],
   "source": [
    "def data_prep(X,y,sub_sample,average,noise):\n",
    "    \n",
    "    total_X = None\n",
    "    total_y = None\n",
    "    \n",
    "    # Trimming the data (sample,22,1000) -> (sample,22,500)\n",
    "    X = X[:,:,0:500]\n",
    "    print('Shape of X after trimming:',X.shape)\n",
    "    \n",
    "    # Maxpooling the data (sample,22,1000) -> (sample,22,500/sub_sample)\n",
    "    X_max = np.max(X.reshape(X.shape[0], X.shape[1], -1, sub_sample), axis=3)\n",
    "    \n",
    "    \n",
    "    total_X = X_max\n",
    "    total_y = y\n",
    "    print('Shape of X after maxpooling:',total_X.shape)\n",
    "    \n",
    "    # Averaging + noise \n",
    "    X_average = np.mean(X.reshape(X.shape[0], X.shape[1], -1, average),axis=3)\n",
    "    X_average = X_average + np.random.normal(0.0, 0.5, X_average.shape)\n",
    "    \n",
    "    total_X = np.vstack((total_X, X_average))\n",
    "    total_y = np.hstack((total_y, y))\n",
    "    print('Shape of X after averaging+noise and concatenating:',total_X.shape)\n",
    "    \n",
    "    # Subsampling\n",
    "    \n",
    "    for i in range(sub_sample):\n",
    "        \n",
    "        X_subsample = X[:, :, i::sub_sample] + \\\n",
    "                            (np.random.normal(0.0, 0.5, X[:, :,i::sub_sample].shape) if noise else 0.0)\n",
    "            \n",
    "        total_X = np.vstack((total_X, X_subsample))\n",
    "        total_y = np.hstack((total_y, y))\n",
    "        \n",
    "    \n",
    "    print('Shape of X after subsampling and concatenating:',total_X.shape)\n",
    "    return total_X,total_y\n",
    "\n"
   ]
  },
  {
   "cell_type": "markdown",
   "metadata": {},
   "source": [
    "### Loading given dataset and chekcing their dimensions"
   ]
  },
  {
   "cell_type": "code",
   "execution_count": 3,
   "metadata": {},
   "outputs": [
    {
     "name": "stdout",
     "output_type": "stream",
     "text": [
      "Training/Valid data shape: (2115, 22, 1000)\n",
      "Test data shape: (443, 22, 1000)\n",
      "Training/Valid target shape: (2115,)\n",
      "Test target shape: (443,)\n",
      "Person train/valid shape: (2115, 1)\n",
      "Person test shape: (443, 1)\n"
     ]
    }
   ],
   "source": [
    "## Loading the dataset\n",
    "\n",
    "\n",
    "X_test = np.load(\"X_test.npy\")\n",
    "y_test = np.load(\"y_test.npy\")\n",
    "person_train_valid = np.load(\"person_train_valid.npy\")\n",
    "X_train_valid = np.load(\"X_train_valid.npy\")\n",
    "y_train_valid = np.load(\"y_train_valid.npy\")\n",
    "person_test = np.load(\"person_test.npy\")\n",
    "\n",
    "## Adjusting the labels so that \n",
    "\n",
    "# Cue onset left - 0\n",
    "# Cue onset right - 1\n",
    "# Cue onset foot - 2\n",
    "# Cue onset tongue - 3\n",
    "\n",
    "y_train_valid -= 769\n",
    "y_test -= 769\n",
    "\n",
    "print ('Training/Valid data shape: {}'.format(X_train_valid.shape))\n",
    "print ('Test data shape: {}'.format(X_test.shape))\n",
    "print ('Training/Valid target shape: {}'.format(y_train_valid.shape))\n",
    "print ('Test target shape: {}'.format(y_test.shape))\n",
    "print ('Person train/valid shape: {}'.format(person_train_valid.shape))\n",
    "print ('Person test shape: {}'.format(person_test.shape))"
   ]
  },
  {
   "cell_type": "markdown",
   "metadata": {},
   "source": [
    "### Checking the unique values and their counts in train and test data for every subject with plot"
   ]
  },
  {
   "cell_type": "code",
   "execution_count": 4,
   "metadata": {},
   "outputs": [
    {
     "name": "stdout",
     "output_type": "stream",
     "text": [
      "person_train_valid = 0:237 1:236 2:236 3:234 4:235 5:236 6:238 7:232 8:231 "
     ]
    }
   ],
   "source": [
    "unique_values_train, value_counts_train = np.unique(person_train_valid, return_counts=True)\n",
    "print(\"person_train_valid = \", end=\"\")\n",
    "# print unique values and their counts\n",
    "for value, count in zip(unique_values_train, value_counts_train):\n",
    "    print(f\"{int(value)}:{count}\", end=\" \")"
   ]
  },
  {
   "cell_type": "code",
   "execution_count": 5,
   "metadata": {},
   "outputs": [
    {
     "name": "stdout",
     "output_type": "stream",
     "text": [
      "person_test = 0:50 1:50 2:50 3:50 4:47 5:49 6:50 7:50 8:47 "
     ]
    }
   ],
   "source": [
    "unique_values_test, value_counts_test = np.unique(person_test, return_counts=True)\n",
    "print(\"person_test = \", end=\"\")\n",
    "# print unique values and their counts\n",
    "for value, count in zip(unique_values_test, value_counts_test):\n",
    "    print(f\"{int(value)}:{count}\", end=\" \")"
   ]
  },
  {
   "cell_type": "code",
   "execution_count": 6,
   "metadata": {},
   "outputs": [
    {
     "data": {
      "image/png": "[encoded data removed]",
      "text/plain": [
       "<Figure size 864x216 with 2 Axes>"
      ]
     },
     "metadata": {
      "needs_background": "light"
     },
     "output_type": "display_data"
    }
   ],
   "source": [
    "import matplotlib.pyplot as plt\n",
    "\n",
    "# create a figure with two subplots\n",
    "fig, (ax1, ax2) = plt.subplots(1, 2, figsize=(12, 3))\n",
    "\n",
    "# plotting the person_train_valid plot in the first subplot\n",
    "ax1.bar(unique_values_train, value_counts_train)\n",
    "for i, count in enumerate(value_counts_train):\n",
    "    ax1.text(unique_values_train[i], count+0.1, str(count), ha='center')\n",
    "ax1.set_xticks(unique_values_train)\n",
    "ax1.set_xlabel('unique_values_train')\n",
    "ax1.set_ylabel('Count')\n",
    "ax1.set_title('Counts of unique_values_train in person_train_valid')\n",
    "\n",
    "# plotting the person_test plot in the second subplot\n",
    "ax2.bar(unique_values_test, value_counts_test)\n",
    "for i, count in enumerate(value_counts_test):\n",
    "    ax2.text(unique_values_test[i], count+0.1, str(count), ha='center')\n",
    "ax2.set_xticks(unique_values_test)\n",
    "ax2.set_xlabel('unique_values_test')\n",
    "ax2.set_ylabel('Count')\n",
    "ax2.set_title('Counts of unique_values_test in person_test')\n",
    "\n",
    "# adjust spacing between subplots\n",
    "plt.subplots_adjust(wspace=0.5)\n",
    "\n",
    "# display the figure\n",
    "plt.show()\n"
   ]
  },
  {
   "cell_type": "markdown",
   "metadata": {},
   "source": [
    "### Extracting subject 1 data at person = 0 for train and test"
   ]
  },
  {
   "cell_type": "code",
   "execution_count": 7,
   "metadata": {},
   "outputs": [
    {
     "name": "stdout",
     "output_type": "stream",
     "text": [
      "train_valid_idx for 1 sub of person_train_valid equals 0 is (2, 237) first bar in 1st plot\n",
      "X_train_valid_person_sub1 data for sub 1 shape is =  (237, 22, 1000)\n",
      "y_train_valid_person_sub1 data for sub 1 shape is =  (237,)\n",
      "test_idx for 1 sub of person_test equals 0 is (2, 50) first bar in 2nd plot\n",
      "X_test_person_sub1 data for sub 1 shape is =  (50, 22, 1000)\n",
      "y_test_person_sub1 data for sub 1 shape is =  (50,)\n"
     ]
    }
   ],
   "source": [
    "train_valid_idx=np.where(person_train_valid == 0)\n",
    "print(f\"train_valid_idx for 1 sub of person_train_valid equals 0 is {np.array(train_valid_idx).shape} first bar in 1st plot\")\n",
    "\n",
    "# using obtained index we get X_train_valid values of that subject\n",
    "X_train_valid_person_sub1=X_train_valid[train_valid_idx[0]]\n",
    "print(\"X_train_valid_person_sub1 data for sub 1 shape is = \",np.array(X_train_valid_person_sub1).shape)\n",
    "\n",
    "#similarly for y_train_valid data usings same index we get for sub 1\n",
    "y_train_valid_person_sub1=y_train_valid[train_valid_idx[0]]\n",
    "print(\"y_train_valid_person_sub1 data for sub 1 shape is = \",np.array(y_train_valid_person_sub1).shape)\n",
    "\n",
    "test_idx=np.where(person_test==0)\n",
    "print(f\"test_idx for 1 sub of person_test equals 0 is {np.array(test_idx).shape} first bar in 2nd plot\")\n",
    "\n",
    "# using obtained index we get X_test values of that subject\n",
    "X_test_person_sub1=X_test[test_idx[0]]\n",
    "print(\"X_test_person_sub1 data for sub 1 shape is = \",np.array(X_test_person_sub1).shape)\n",
    "\n",
    "#similarly for y_test data usings same index we get for sub 1\n",
    "y_test_person_sub1=y_test[test_idx[0]]\n",
    "print(\"y_test_person_sub1 data for sub 1 shape is = \",np.array(y_test_person_sub1).shape)"
   ]
  },
  {
   "cell_type": "code",
   "execution_count": 8,
   "metadata": {},
   "outputs": [],
   "source": [
    "## Random splitting and reshaping the data\n",
    "# First generating the training and validation indices using random splitting\n",
    "\n",
    "ind_valid = np.random.choice(237, 42, replace=False)\n",
    "ind_train = np.array(list(set(range(237)).difference(set(ind_valid))))\n",
    "\n",
    "# Creating the training and validation sets using the generated indices\n",
    "(X_train, X_valid) = X_train_valid_person_sub1[ind_train], X_train_valid_person_sub1[ind_valid] \n",
    "(y_train, y_valid) = y_train_valid_person_sub1[ind_train], y_train_valid_person_sub1[ind_valid]\n"
   ]
  },
  {
   "cell_type": "code",
   "execution_count": 9,
   "metadata": {},
   "outputs": [
    {
     "data": {
      "text/plain": [
       "(195,)"
      ]
     },
     "execution_count": 9,
     "metadata": {},
     "output_type": "execute_result"
    }
   ],
   "source": [
    "y_train.shape"
   ]
  },
  {
   "cell_type": "code",
   "execution_count": 10,
   "metadata": {},
   "outputs": [
    {
     "name": "stdout",
     "output_type": "stream",
     "text": [
      "Shape of X after trimming: (195, 22, 500)\n",
      "Shape of X after maxpooling: (195, 22, 250)\n",
      "Shape of X after averaging+noise and concatenating: (390, 22, 250)\n",
      "Shape of X after subsampling and concatenating: (780, 22, 250)\n"
     ]
    }
   ],
   "source": [
    "\n",
    "## Preprocessing the dataset\n",
    "x_train,y_train = data_prep(X_train,y_train,2,2,True)\n"
   ]
  },
  {
   "cell_type": "code",
   "execution_count": 11,
   "metadata": {},
   "outputs": [
    {
     "name": "stdout",
     "output_type": "stream",
     "text": [
      "Shape of X after trimming: (42, 22, 500)\n",
      "Shape of X after maxpooling: (42, 22, 250)\n",
      "Shape of X after averaging+noise and concatenating: (84, 22, 250)\n",
      "Shape of X after subsampling and concatenating: (168, 22, 250)\n"
     ]
    }
   ],
   "source": [
    "x_valid,y_valid = data_prep(X_valid,y_valid,2,2,True)\n"
   ]
  },
  {
   "cell_type": "code",
   "execution_count": 12,
   "metadata": {},
   "outputs": [
    {
     "name": "stdout",
     "output_type": "stream",
     "text": [
      "Shape of X after trimming: (50, 22, 500)\n",
      "Shape of X after maxpooling: (50, 22, 250)\n",
      "Shape of X after averaging+noise and concatenating: (100, 22, 250)\n",
      "Shape of X after subsampling and concatenating: (200, 22, 250)\n"
     ]
    }
   ],
   "source": [
    "X_test_prep, y_test_prep = data_prep(X_test_person_sub1, y_test_person_sub1, 2,2,True)\n",
    "#X_test_prep,y_test_prep = data_prep(X_test,y_test,2,2,True)"
   ]
  },
  {
   "cell_type": "code",
   "execution_count": 13,
   "metadata": {},
   "outputs": [
    {
     "name": "stdout",
     "output_type": "stream",
     "text": [
      "Shape of testing set: (200, 22, 250)\n",
      "Shape of testing labels: (200,)\n",
      "\n",
      "Shape of training set: (780, 22, 250)\n",
      "Shape of validation set: (168, 22, 250)\n",
      "Shape of training labels: (780,)\n",
      "Shape of validation labels: (168,)\n"
     ]
    }
   ],
   "source": [
    "print('Shape of testing set:',X_test_prep.shape)\n",
    "print('Shape of testing labels:',y_test_prep.shape)\n",
    "print()\n",
    "print('Shape of training set:',x_train.shape)\n",
    "print('Shape of validation set:',x_valid.shape)\n",
    "print('Shape of training labels:',y_train.shape)\n",
    "print('Shape of validation labels:',y_valid.shape)"
   ]
  },
  {
   "cell_type": "code",
   "execution_count": 14,
   "metadata": {},
   "outputs": [
    {
     "name": "stdout",
     "output_type": "stream",
     "text": [
      "Shape of training labels after categorical conversion: (780, 4)\n",
      "Shape of validation labels after categorical conversion: (168, 4)\n",
      "Shape of test labels after categorical conversion: (200, 4)\n"
     ]
    }
   ],
   "source": [
    "# Converting the labels to categorical variables for multiclass classification\n",
    "y_train = to_categorical(y_train, 4)\n",
    "y_valid = to_categorical(y_valid, 4)\n",
    "y_test = to_categorical(y_test_prep, 4)\n",
    "print('Shape of training labels after categorical conversion:',y_train.shape)\n",
    "print('Shape of validation labels after categorical conversion:',y_valid.shape)\n",
    "print('Shape of test labels after categorical conversion:',y_test.shape)"
   ]
  },
  {
   "cell_type": "code",
   "execution_count": 15,
   "metadata": {},
   "outputs": [
    {
     "name": "stdout",
     "output_type": "stream",
     "text": [
      "Shape of training set after adding width info: (780, 22, 250, 1)\n",
      "Shape of validation set after adding width info: (168, 22, 250, 1)\n",
      "Shape of test set after adding width info: (200, 22, 250, 1)\n"
     ]
    }
   ],
   "source": [
    "# Adding width of the segment to be 1\n",
    "x_train = x_train.reshape(x_train.shape[0], x_train.shape[1], x_train.shape[2], 1)\n",
    "x_valid = x_valid.reshape(x_valid.shape[0], x_valid.shape[1], x_train.shape[2], 1)\n",
    "x_test = X_test_prep.reshape(X_test_prep.shape[0], X_test_prep.shape[1], X_test_prep.shape[2], 1)\n",
    "print('Shape of training set after adding width info:',x_train.shape)\n",
    "print('Shape of validation set after adding width info:',x_valid.shape)\n",
    "print('Shape of test set after adding width info:',x_test.shape)"
   ]
  },
  {
   "cell_type": "code",
   "execution_count": 16,
   "metadata": {},
   "outputs": [
    {
     "data": {
      "text/plain": [
       "(200, 22, 250, 1)"
      ]
     },
     "execution_count": 16,
     "metadata": {},
     "output_type": "execute_result"
    }
   ],
   "source": [
    "x_test.shape"
   ]
  },
  {
   "cell_type": "code",
   "execution_count": 17,
   "metadata": {},
   "outputs": [
    {
     "name": "stdout",
     "output_type": "stream",
     "text": [
      "Shape of training set after dimension reshaping: (780, 250, 1, 22)\n",
      "Shape of validation set after dimension reshaping: (168, 250, 1, 22)\n",
      "Shape of test set after dimension reshaping: (200, 250, 1, 22)\n"
     ]
    }
   ],
   "source": [
    "# Reshaping the training and validation dataset\n",
    "x_train = np.swapaxes(x_train, 1,3)\n",
    "x_train = np.swapaxes(x_train, 1,2)\n",
    "x_valid = np.swapaxes(x_valid, 1,3)\n",
    "x_valid = np.swapaxes(x_valid, 1,2)\n",
    "x_test = np.swapaxes(x_test, 1,3)\n",
    "x_test = np.swapaxes(x_test, 1,2)\n",
    "print('Shape of training set after dimension reshaping:',x_train.shape)\n",
    "print('Shape of validation set after dimension reshaping:',x_valid.shape)\n",
    "print('Shape of test set after dimension reshaping:',x_test.shape)"
   ]
  },
  {
   "cell_type": "markdown",
   "metadata": {},
   "source": [
    "### CNN_LSTM\n",
    "#### 4 Convolution block | FC+ 2LSTM | Activation = relu "
   ]
  },
  {
   "cell_type": "code",
   "execution_count": 18,
   "metadata": {},
   "outputs": [
    {
     "name": "stdout",
     "output_type": "stream",
     "text": [
      "Model: \"sequential\"\n",
      "_________________________________________________________________\n",
      " Layer (type)                Output Shape              Param #   \n",
      "=================================================================\n",
      " conv2d (Conv2D)             (None, 250, 1, 20)        4420      \n",
      "                                                                 \n",
      " max_pooling2d (MaxPooling2D  (None, 84, 1, 20)        0         \n",
      " )                                                               \n",
      "                                                                 \n",
      " batch_normalization (BatchN  (None, 84, 1, 20)        80        \n",
      " ormalization)                                                   \n",
      "                                                                 \n",
      " dropout (Dropout)           (None, 84, 1, 20)         0         \n",
      "                                                                 \n",
      " conv2d_1 (Conv2D)           (None, 84, 1, 40)         8040      \n",
      "                                                                 \n",
      " max_pooling2d_1 (MaxPooling  (None, 28, 1, 40)        0         \n",
      " 2D)                                                             \n",
      "                                                                 \n",
      " batch_normalization_1 (Batc  (None, 28, 1, 40)        160       \n",
      " hNormalization)                                                 \n",
      "                                                                 \n",
      " dropout_1 (Dropout)         (None, 28, 1, 40)         0         \n",
      "                                                                 \n",
      " conv2d_2 (Conv2D)           (None, 28, 1, 80)         32080     \n",
      "                                                                 \n",
      " max_pooling2d_2 (MaxPooling  (None, 10, 1, 80)        0         \n",
      " 2D)                                                             \n",
      "                                                                 \n",
      " batch_normalization_2 (Batc  (None, 10, 1, 80)        320       \n",
      " hNormalization)                                                 \n",
      "                                                                 \n",
      " dropout_2 (Dropout)         (None, 10, 1, 80)         0         \n",
      "                                                                 \n",
      " conv2d_3 (Conv2D)           (None, 10, 1, 160)        128160    \n",
      "                                                                 \n",
      " max_pooling2d_3 (MaxPooling  (None, 4, 1, 160)        0         \n",
      " 2D)                                                             \n",
      "                                                                 \n",
      " batch_normalization_3 (Batc  (None, 4, 1, 160)        640       \n",
      " hNormalization)                                                 \n",
      "                                                                 \n",
      " dropout_3 (Dropout)         (None, 4, 1, 160)         0         \n",
      "                                                                 \n",
      " flatten (Flatten)           (None, 640)               0         \n",
      "                                                                 \n",
      " dense (Dense)               (None, 100)               64100     \n",
      "                                                                 \n",
      " reshape (Reshape)           (None, 100, 1)            0         \n",
      "                                                                 \n",
      " lstm (LSTM)                 (None, 160)               103680    \n",
      "                                                                 \n",
      " reshape_1 (Reshape)         (None, 1, 160)            0         \n",
      "                                                                 \n",
      " lstm_1 (LSTM)               (None, 10)                6840      \n",
      "                                                                 \n",
      " dense_1 (Dense)             (None, 4)                 44        \n",
      "                                                                 \n",
      "=================================================================\n",
      "Total params: 348,564\n",
      "Trainable params: 347,964\n",
      "Non-trainable params: 600\n",
      "_________________________________________________________________\n"
     ]
    }
   ],
   "source": [
    "# Building the CNN model using sequential class\n",
    "hybrid_cnn_lstm_model = Sequential()\n",
    "\n",
    "#activation=LeakyReLU(alpha=0.2)\n",
    "activation='relu'\n",
    "# Conv. block 1\n",
    "hybrid_cnn_lstm_model.add(Conv2D(filters=20, kernel_size=(10,1), padding='same', activation=activation, input_shape=(250,1,22)))\n",
    "hybrid_cnn_lstm_model.add(MaxPooling2D(pool_size=(3,1), padding='same')) # Read the keras documentation\n",
    "hybrid_cnn_lstm_model.add(BatchNormalization())\n",
    "hybrid_cnn_lstm_model.add(Dropout(0.5))\n",
    "\n",
    "# Conv. block 2\n",
    "hybrid_cnn_lstm_model.add(Conv2D(filters=40, kernel_size=(10,1), padding='same', activation=activation))\n",
    "hybrid_cnn_lstm_model.add(MaxPooling2D(pool_size=(3,1), padding='same'))\n",
    "hybrid_cnn_lstm_model.add(BatchNormalization())\n",
    "hybrid_cnn_lstm_model.add(Dropout(0.5))\n",
    "\n",
    "# Conv. block 3\n",
    "hybrid_cnn_lstm_model.add(Conv2D(filters=80, kernel_size=(10,1), padding='same', activation=activation))\n",
    "hybrid_cnn_lstm_model.add(MaxPooling2D(pool_size=(3,1), padding='same'))\n",
    "hybrid_cnn_lstm_model.add(BatchNormalization())\n",
    "hybrid_cnn_lstm_model.add(Dropout(0.5))\n",
    "\n",
    "# Conv. block 4\n",
    "hybrid_cnn_lstm_model.add(Conv2D(filters=160, kernel_size=(10,1), padding='same', activation=activation))\n",
    "hybrid_cnn_lstm_model.add(MaxPooling2D(pool_size=(3,1), padding='same'))\n",
    "hybrid_cnn_lstm_model.add(BatchNormalization())\n",
    "hybrid_cnn_lstm_model.add(Dropout(0.5))\n",
    "\n",
    "# FC+LSTM layers\n",
    "hybrid_cnn_lstm_model.add(Flatten()) # Adding a flattening operation to the output of CNN block\n",
    "hybrid_cnn_lstm_model.add(Dense((100))) # FC layer with 100 units\n",
    "hybrid_cnn_lstm_model.add(Reshape((100,1))) # Reshape my output of FC layer so that it's compatible\n",
    "hybrid_cnn_lstm_model.add(LSTM(160, dropout=0.6, recurrent_dropout=0.1, input_shape=(100,1), return_sequences=False))\n",
    "hybrid_cnn_lstm_model.add(Reshape((1, 160)))\n",
    "hybrid_cnn_lstm_model.add(LSTM(10, dropout=0.6, recurrent_dropout=0.1, input_shape=(100,1), return_sequences=False))\n",
    "\n",
    "# Output layer with Softmax activation \n",
    "hybrid_cnn_lstm_model.add(Dense(4, activation='softmax')) # Output FC layer with softmax activation\n",
    "\n",
    "\n",
    "# Printing the model summary\n",
    "hybrid_cnn_lstm_model.summary()\n"
   ]
  },
  {
   "cell_type": "code",
   "execution_count": 19,
   "metadata": {},
   "outputs": [
    {
     "name": "stderr",
     "output_type": "stream",
     "text": [
      "C:\\Users\\swaga\\AppData\\Roaming\\Python\\Python39\\site-packages\\keras\\optimizers\\optimizer_v2\\adam.py:117: UserWarning: The `lr` argument is deprecated, use `learning_rate` instead.\n",
      "  super().__init__(name, **kwargs)\n"
     ]
    }
   ],
   "source": [
    "# Model parameters\n",
    "learning_rate = 1e-3\n",
    "epochs = 80\n",
    "hybrid_cnn_lstm_optimizer = keras.optimizers.Adam(lr=learning_rate)"
   ]
  },
  {
   "cell_type": "code",
   "execution_count": 20,
   "metadata": {},
   "outputs": [
    {
     "name": "stdout",
     "output_type": "stream",
     "text": [
      "Epoch 1/80\n",
      "13/13 [==============================] - 6s 171ms/step - loss: 1.3831 - accuracy: 0.2718 - val_loss: 1.4567 - val_accuracy: 0.1190\n",
      "Epoch 2/80\n",
      "13/13 [==============================] - 2s 152ms/step - loss: 1.3715 - accuracy: 0.3141 - val_loss: 1.6150 - val_accuracy: 0.1190\n",
      "Epoch 3/80\n",
      "13/13 [==============================] - 2s 148ms/step - loss: 1.3402 - accuracy: 0.3192 - val_loss: 1.7198 - val_accuracy: 0.1190\n",
      "Epoch 4/80\n",
      "13/13 [==============================] - 2s 168ms/step - loss: 1.3193 - accuracy: 0.3628 - val_loss: 1.8390 - val_accuracy: 0.1190\n",
      "Epoch 5/80\n",
      "13/13 [==============================] - 3s 235ms/step - loss: 1.2345 - accuracy: 0.4346 - val_loss: 1.8600 - val_accuracy: 0.1190\n",
      "Epoch 6/80\n",
      "13/13 [==============================] - 3s 228ms/step - loss: 1.1859 - accuracy: 0.4436 - val_loss: 1.8718 - val_accuracy: 0.1667\n",
      "Epoch 7/80\n",
      "13/13 [==============================] - 3s 232ms/step - loss: 1.1342 - accuracy: 0.4487 - val_loss: 1.4161 - val_accuracy: 0.2857\n",
      "Epoch 8/80\n",
      "13/13 [==============================] - 3s 256ms/step - loss: 1.0792 - accuracy: 0.4821 - val_loss: 1.3241 - val_accuracy: 0.3393\n",
      "Epoch 9/80\n",
      "13/13 [==============================] - 4s 280ms/step - loss: 1.0042 - accuracy: 0.5244 - val_loss: 1.2131 - val_accuracy: 0.4226\n",
      "Epoch 10/80\n",
      "13/13 [==============================] - 3s 267ms/step - loss: 1.0105 - accuracy: 0.5397 - val_loss: 1.2277 - val_accuracy: 0.4405\n",
      "Epoch 11/80\n",
      "13/13 [==============================] - 3s 226ms/step - loss: 0.9604 - accuracy: 0.5359 - val_loss: 1.2215 - val_accuracy: 0.4286\n",
      "Epoch 12/80\n",
      "13/13 [==============================] - 3s 228ms/step - loss: 0.9528 - accuracy: 0.5564 - val_loss: 1.2096 - val_accuracy: 0.4345\n",
      "Epoch 13/80\n",
      "13/13 [==============================] - 3s 236ms/step - loss: 0.9329 - accuracy: 0.5654 - val_loss: 1.2128 - val_accuracy: 0.3750\n",
      "Epoch 14/80\n",
      "13/13 [==============================] - 3s 204ms/step - loss: 0.9326 - accuracy: 0.5564 - val_loss: 1.2414 - val_accuracy: 0.4107\n",
      "Epoch 15/80\n",
      "13/13 [==============================] - 3s 199ms/step - loss: 0.8739 - accuracy: 0.5769 - val_loss: 1.1778 - val_accuracy: 0.4524\n",
      "Epoch 16/80\n",
      "13/13 [==============================] - 3s 192ms/step - loss: 0.9267 - accuracy: 0.5603 - val_loss: 1.2341 - val_accuracy: 0.4048\n",
      "Epoch 17/80\n",
      "13/13 [==============================] - 3s 205ms/step - loss: 0.8709 - accuracy: 0.5782 - val_loss: 1.2329 - val_accuracy: 0.4048\n",
      "Epoch 18/80\n",
      "13/13 [==============================] - 3s 209ms/step - loss: 0.8435 - accuracy: 0.6154 - val_loss: 1.1620 - val_accuracy: 0.4345\n",
      "Epoch 19/80\n",
      "13/13 [==============================] - 3s 230ms/step - loss: 0.8692 - accuracy: 0.5859 - val_loss: 1.4233 - val_accuracy: 0.3869\n",
      "Epoch 20/80\n",
      "13/13 [==============================] - 3s 197ms/step - loss: 0.8219 - accuracy: 0.6179 - val_loss: 1.1995 - val_accuracy: 0.4286\n",
      "Epoch 21/80\n",
      "13/13 [==============================] - 3s 202ms/step - loss: 0.7793 - accuracy: 0.6436 - val_loss: 1.2529 - val_accuracy: 0.4702\n",
      "Epoch 22/80\n",
      "13/13 [==============================] - 3s 197ms/step - loss: 0.7726 - accuracy: 0.6269 - val_loss: 1.2072 - val_accuracy: 0.4881\n",
      "Epoch 23/80\n",
      "13/13 [==============================] - 3s 224ms/step - loss: 0.7536 - accuracy: 0.6372 - val_loss: 1.4690 - val_accuracy: 0.4524\n",
      "Epoch 24/80\n",
      "13/13 [==============================] - 3s 228ms/step - loss: 0.7319 - accuracy: 0.6423 - val_loss: 1.5293 - val_accuracy: 0.4107\n",
      "Epoch 25/80\n",
      "13/13 [==============================] - 3s 270ms/step - loss: 0.7587 - accuracy: 0.6513 - val_loss: 1.3648 - val_accuracy: 0.4583\n",
      "Epoch 26/80\n",
      "13/13 [==============================] - 3s 229ms/step - loss: 0.7716 - accuracy: 0.6167 - val_loss: 1.5710 - val_accuracy: 0.4107\n",
      "Epoch 27/80\n",
      "13/13 [==============================] - 3s 252ms/step - loss: 0.7934 - accuracy: 0.5962 - val_loss: 1.4175 - val_accuracy: 0.2917\n",
      "Epoch 28/80\n",
      "13/13 [==============================] - 3s 215ms/step - loss: 0.7494 - accuracy: 0.6410 - val_loss: 1.4087 - val_accuracy: 0.3929\n",
      "Epoch 29/80\n",
      "13/13 [==============================] - 3s 198ms/step - loss: 0.7361 - accuracy: 0.6410 - val_loss: 1.1800 - val_accuracy: 0.3929\n",
      "Epoch 30/80\n",
      "13/13 [==============================] - 3s 200ms/step - loss: 0.6935 - accuracy: 0.6654 - val_loss: 1.3282 - val_accuracy: 0.4524\n",
      "Epoch 31/80\n",
      "13/13 [==============================] - 3s 204ms/step - loss: 0.6808 - accuracy: 0.6603 - val_loss: 1.4293 - val_accuracy: 0.4286\n",
      "Epoch 32/80\n",
      "13/13 [==============================] - 3s 222ms/step - loss: 0.6829 - accuracy: 0.6846 - val_loss: 1.4178 - val_accuracy: 0.4405\n",
      "Epoch 33/80\n",
      "13/13 [==============================] - 3s 210ms/step - loss: 0.6359 - accuracy: 0.6897 - val_loss: 1.3359 - val_accuracy: 0.4821\n",
      "Epoch 34/80\n",
      "13/13 [==============================] - 3s 211ms/step - loss: 0.6411 - accuracy: 0.6782 - val_loss: 1.2363 - val_accuracy: 0.5238\n",
      "Epoch 35/80\n",
      "13/13 [==============================] - 3s 201ms/step - loss: 0.6712 - accuracy: 0.6846 - val_loss: 1.3181 - val_accuracy: 0.5000\n",
      "Epoch 36/80\n",
      "13/13 [==============================] - 3s 202ms/step - loss: 0.6247 - accuracy: 0.7026 - val_loss: 1.2213 - val_accuracy: 0.4762\n",
      "Epoch 37/80\n",
      "13/13 [==============================] - 3s 228ms/step - loss: 0.6706 - accuracy: 0.6936 - val_loss: 1.0275 - val_accuracy: 0.5774\n",
      "Epoch 38/80\n",
      "13/13 [==============================] - 3s 205ms/step - loss: 0.6213 - accuracy: 0.6974 - val_loss: 1.2278 - val_accuracy: 0.5060\n",
      "Epoch 39/80\n",
      "13/13 [==============================] - 3s 215ms/step - loss: 0.6675 - accuracy: 0.6744 - val_loss: 1.2721 - val_accuracy: 0.5179\n",
      "Epoch 40/80\n",
      "13/13 [==============================] - 3s 224ms/step - loss: 0.6152 - accuracy: 0.6910 - val_loss: 1.3226 - val_accuracy: 0.4940\n",
      "Epoch 41/80\n",
      "13/13 [==============================] - 3s 213ms/step - loss: 0.5894 - accuracy: 0.7064 - val_loss: 1.3250 - val_accuracy: 0.4821\n",
      "Epoch 42/80\n",
      "13/13 [==============================] - 3s 213ms/step - loss: 0.5911 - accuracy: 0.7128 - val_loss: 1.3691 - val_accuracy: 0.4821\n",
      "Epoch 43/80\n",
      "13/13 [==============================] - 3s 241ms/step - loss: 0.5912 - accuracy: 0.7192 - val_loss: 1.3698 - val_accuracy: 0.4762\n",
      "Epoch 44/80\n",
      "13/13 [==============================] - 3s 253ms/step - loss: 0.5488 - accuracy: 0.7487 - val_loss: 1.2557 - val_accuracy: 0.5179\n",
      "Epoch 45/80\n",
      "13/13 [==============================] - 3s 219ms/step - loss: 0.5778 - accuracy: 0.7192 - val_loss: 1.3360 - val_accuracy: 0.4821\n",
      "Epoch 46/80\n",
      "13/13 [==============================] - 3s 217ms/step - loss: 0.5512 - accuracy: 0.7295 - val_loss: 1.2279 - val_accuracy: 0.4821\n",
      "Epoch 47/80\n",
      "13/13 [==============================] - 3s 207ms/step - loss: 0.5359 - accuracy: 0.7269 - val_loss: 1.3737 - val_accuracy: 0.4821\n",
      "Epoch 48/80\n",
      "13/13 [==============================] - 3s 204ms/step - loss: 0.4953 - accuracy: 0.7410 - val_loss: 1.4555 - val_accuracy: 0.4702\n",
      "Epoch 49/80\n",
      "13/13 [==============================] - 3s 238ms/step - loss: 0.5282 - accuracy: 0.7359 - val_loss: 1.4155 - val_accuracy: 0.4762\n",
      "Epoch 50/80\n",
      "13/13 [==============================] - 3s 233ms/step - loss: 0.5391 - accuracy: 0.7308 - val_loss: 1.4068 - val_accuracy: 0.4702\n",
      "Epoch 51/80\n",
      "13/13 [==============================] - 3s 204ms/step - loss: 0.5292 - accuracy: 0.7551 - val_loss: 1.0683 - val_accuracy: 0.5179\n",
      "Epoch 52/80\n",
      "13/13 [==============================] - 3s 198ms/step - loss: 0.4999 - accuracy: 0.7538 - val_loss: 1.3207 - val_accuracy: 0.5060\n",
      "Epoch 53/80\n",
      "13/13 [==============================] - 3s 198ms/step - loss: 0.4748 - accuracy: 0.7667 - val_loss: 1.4331 - val_accuracy: 0.4821\n",
      "Epoch 54/80\n",
      "13/13 [==============================] - 3s 224ms/step - loss: 0.5166 - accuracy: 0.7551 - val_loss: 1.3354 - val_accuracy: 0.4940\n",
      "Epoch 55/80\n",
      "13/13 [==============================] - 3s 205ms/step - loss: 0.4887 - accuracy: 0.7705 - val_loss: 1.5059 - val_accuracy: 0.4702\n",
      "Epoch 56/80\n",
      "13/13 [==============================] - 3s 201ms/step - loss: 0.5043 - accuracy: 0.7526 - val_loss: 1.3037 - val_accuracy: 0.4583\n",
      "Epoch 57/80\n",
      "13/13 [==============================] - 3s 216ms/step - loss: 0.4814 - accuracy: 0.7705 - val_loss: 1.4285 - val_accuracy: 0.4940\n",
      "Epoch 58/80\n",
      "13/13 [==============================] - 3s 209ms/step - loss: 0.4912 - accuracy: 0.7897 - val_loss: 1.3928 - val_accuracy: 0.4702\n",
      "Epoch 59/80\n",
      "13/13 [==============================] - 3s 219ms/step - loss: 0.4910 - accuracy: 0.7859 - val_loss: 1.3644 - val_accuracy: 0.4226\n",
      "Epoch 60/80\n",
      "13/13 [==============================] - 3s 269ms/step - loss: 0.5028 - accuracy: 0.7641 - val_loss: 1.3220 - val_accuracy: 0.5060\n",
      "Epoch 61/80\n",
      "13/13 [==============================] - 3s 224ms/step - loss: 0.5105 - accuracy: 0.7731 - val_loss: 1.3498 - val_accuracy: 0.4702\n",
      "Epoch 62/80\n",
      "13/13 [==============================] - 3s 203ms/step - loss: 0.4521 - accuracy: 0.7782 - val_loss: 1.3672 - val_accuracy: 0.4762\n",
      "Epoch 63/80\n",
      "13/13 [==============================] - 3s 247ms/step - loss: 0.4707 - accuracy: 0.7885 - val_loss: 1.3422 - val_accuracy: 0.4762\n",
      "Epoch 64/80\n",
      "13/13 [==============================] - 3s 243ms/step - loss: 0.4931 - accuracy: 0.7769 - val_loss: 1.4030 - val_accuracy: 0.4762\n",
      "Epoch 65/80\n",
      "13/13 [==============================] - 4s 290ms/step - loss: 0.4640 - accuracy: 0.7987 - val_loss: 1.5069 - val_accuracy: 0.4583\n",
      "Epoch 66/80\n",
      "13/13 [==============================] - 3s 245ms/step - loss: 0.4101 - accuracy: 0.8167 - val_loss: 1.4672 - val_accuracy: 0.4167\n",
      "Epoch 67/80\n",
      "13/13 [==============================] - 4s 291ms/step - loss: 0.4391 - accuracy: 0.8090 - val_loss: 1.5349 - val_accuracy: 0.4345\n",
      "Epoch 68/80\n",
      "13/13 [==============================] - 5s 377ms/step - loss: 0.4181 - accuracy: 0.8128 - val_loss: 1.5565 - val_accuracy: 0.4524\n",
      "Epoch 69/80\n",
      "13/13 [==============================] - 5s 346ms/step - loss: 0.4228 - accuracy: 0.8141 - val_loss: 1.5232 - val_accuracy: 0.4048\n",
      "Epoch 70/80\n",
      "13/13 [==============================] - 5s 367ms/step - loss: 0.4378 - accuracy: 0.8179 - val_loss: 1.4507 - val_accuracy: 0.4583\n",
      "Epoch 71/80\n",
      "13/13 [==============================] - 5s 376ms/step - loss: 0.4340 - accuracy: 0.8179 - val_loss: 1.3639 - val_accuracy: 0.3988\n",
      "Epoch 72/80\n",
      "13/13 [==============================] - 5s 366ms/step - loss: 0.4754 - accuracy: 0.7821 - val_loss: 1.1977 - val_accuracy: 0.4881\n",
      "Epoch 73/80\n",
      "13/13 [==============================] - 5s 360ms/step - loss: 0.4115 - accuracy: 0.8205 - val_loss: 1.3953 - val_accuracy: 0.4762\n",
      "Epoch 74/80\n",
      "13/13 [==============================] - 5s 350ms/step - loss: 0.4112 - accuracy: 0.8179 - val_loss: 1.3544 - val_accuracy: 0.4762\n",
      "Epoch 75/80\n",
      "13/13 [==============================] - 5s 366ms/step - loss: 0.4202 - accuracy: 0.8269 - val_loss: 1.3516 - val_accuracy: 0.4583\n",
      "Epoch 76/80\n",
      "13/13 [==============================] - 5s 355ms/step - loss: 0.3600 - accuracy: 0.8487 - val_loss: 1.4861 - val_accuracy: 0.4583\n",
      "Epoch 77/80\n",
      "13/13 [==============================] - 5s 356ms/step - loss: 0.3848 - accuracy: 0.8538 - val_loss: 1.4613 - val_accuracy: 0.4583\n",
      "Epoch 78/80\n",
      "13/13 [==============================] - 5s 361ms/step - loss: 0.3486 - accuracy: 0.8679 - val_loss: 1.4482 - val_accuracy: 0.4881\n",
      "Epoch 79/80\n",
      "13/13 [==============================] - 5s 363ms/step - loss: 0.3591 - accuracy: 0.8590 - val_loss: 1.3627 - val_accuracy: 0.4881\n",
      "Epoch 80/80\n",
      "13/13 [==============================] - 5s 373ms/step - loss: 0.4021 - accuracy: 0.8500 - val_loss: 1.4675 - val_accuracy: 0.4524\n"
     ]
    }
   ],
   "source": [
    "# Compiling the model\n",
    "hybrid_cnn_lstm_model.compile(loss='categorical_crossentropy',\n",
    "                 optimizer=hybrid_cnn_lstm_optimizer,\n",
    "                 metrics=['accuracy'])\n",
    "\n",
    "# Training and validating the model\n",
    "hybrid_cnn_lstm_model_results = hybrid_cnn_lstm_model.fit(x_train,\n",
    "             y_train,\n",
    "             batch_size=64,\n",
    "             epochs=epochs,\n",
    "             validation_data=(x_valid, y_valid), verbose=True)\n",
    "\n"
   ]
  },
  {
   "cell_type": "code",
   "execution_count": 21,
   "metadata": {},
   "outputs": [
    {
     "data": {
      "image/png": "[encoded data removed]",
      "text/plain": [
       "<Figure size 432x288 with 1 Axes>"
      ]
     },
     "metadata": {
      "needs_background": "light"
     },
     "output_type": "display_data"
    },
    {
     "data": {
      "image/png": "[encoded data removed]",
      "text/plain": [
       "<Figure size 432x288 with 1 Axes>"
      ]
     },
     "metadata": {
      "needs_background": "light"
     },
     "output_type": "display_data"
    }
   ],
   "source": [
    "import matplotlib.pyplot as plt\n",
    "\n",
    "# Plotting accuracy trajectory\n",
    "plt.plot(hybrid_cnn_lstm_model_results.history['accuracy'])\n",
    "plt.plot(hybrid_cnn_lstm_model_results.history['val_accuracy'])\n",
    "plt.title('Hybrid CNN-LSTM model accuracy trajectory')\n",
    "plt.ylabel('accuracy')\n",
    "plt.xlabel('epoch')\n",
    "plt.legend(['train', 'val'], loc='upper left')\n",
    "plt.show()\n",
    "\n",
    "# Plotting loss trajectory\n",
    "plt.plot(hybrid_cnn_lstm_model_results.history['loss'],'o')\n",
    "plt.plot(hybrid_cnn_lstm_model_results.history['val_loss'],'o')\n",
    "plt.title('Hybrid CNN-LSTM model loss trajectory')\n",
    "plt.ylabel('loss')\n",
    "plt.xlabel('epoch')\n",
    "plt.legend(['train', 'val'], loc='upper left')\n",
    "plt.show()"
   ]
  },
  {
   "cell_type": "code",
   "execution_count": 54,
   "metadata": {},
   "outputs": [
    {
     "data": {
      "text/plain": [
       "(200, 250, 1, 22)"
      ]
     },
     "execution_count": 54,
     "metadata": {},
     "output_type": "execute_result"
    }
   ],
   "source": [
    "x_test.shape"
   ]
  },
  {
   "cell_type": "code",
   "execution_count": 25,
   "metadata": {},
   "outputs": [
    {
     "name": "stdout",
     "output_type": "stream",
     "text": [
      "Test accuracy of the hybrid CNN-LSTM model: 0.6600000262260437\n"
     ]
    }
   ],
   "source": [
    "## Testing the hybrid CNN-LSTM model\n",
    "hybrid_cnn_lstm_score = hybrid_cnn_lstm_model.evaluate(x_test, y_test, verbose=0)\n",
    "print('Test accuracy of the hybrid CNN-LSTM model:',hybrid_cnn_lstm_score[1])\n"
   ]
  },
  {
   "cell_type": "code",
   "execution_count": 23,
   "metadata": {},
   "outputs": [
    {
     "name": "stdout",
     "output_type": "stream",
     "text": [
      "7/7 [==============================] - 2s 50ms/step\n"
     ]
    },
    {
     "data": {
      "image/png": "[encoded data removed]",
      "text/plain": [
       "<Figure size 432x288 with 2 Axes>"
      ]
     },
     "metadata": {
      "needs_background": "light"
     },
     "output_type": "display_data"
    }
   ],
   "source": [
    "from sklearn.metrics import confusion_matrix, ConfusionMatrixDisplay\n",
    "import numpy as np\n",
    "import matplotlib.pyplot as plt\n",
    "\n",
    "# Predict on test data\n",
    "y_pred = hybrid_cnn_lstm_model.predict(x_test)\n",
    "y_pred_labels = np.argmax(y_pred, axis=1)\n",
    "y_true_labels = np.argmax(y_test, axis=1)\n",
    "\n",
    "# Compute confusion matrix\n",
    "conf_mat = confusion_matrix(y_true_labels, y_pred_labels)\n",
    "\n",
    "# Display confusion matrix\n",
    "classes = ['class1', 'class2', 'class3', 'class4']\n",
    "disp = ConfusionMatrixDisplay(confusion_matrix=conf_mat, display_labels=classes)\n",
    "disp.plot()\n",
    "plt.show()"
   ]
  },
  {
   "cell_type": "code",
   "execution_count": 24,
   "metadata": {},
   "outputs": [
    {
     "name": "stdout",
     "output_type": "stream",
     "text": [
      "7/7 [==============================] - 0s 49ms/step\n",
      "              precision    recall  f1-score   support\n",
      "\n",
      "      class1       0.56      0.48      0.52        48\n",
      "      class2       0.62      0.88      0.72        48\n",
      "      class3       0.75      0.64      0.69        56\n",
      "      class4       0.72      0.65      0.68        48\n",
      "\n",
      "    accuracy                           0.66       200\n",
      "   macro avg       0.66      0.66      0.65       200\n",
      "weighted avg       0.67      0.66      0.66       200\n",
      "\n"
     ]
    }
   ],
   "source": [
    "from sklearn.metrics import classification_report\n",
    "import numpy as np\n",
    "\n",
    "# Predict on test data\n",
    "y_pred = hybrid_cnn_lstm_model.predict(x_test)\n",
    "y_pred_labels = np.argmax(y_pred, axis=1)\n",
    "y_true_labels = np.argmax(y_test, axis=1)\n",
    "\n",
    "# Generate classification report\n",
    "target_names = ['class1', 'class2', 'class3', 'class4']\n",
    "report = classification_report(y_true_labels, y_pred_labels, target_names=target_names)\n",
    "\n",
    "# Print classification report\n",
    "print(report)\n"
   ]
  },
  {
   "cell_type": "code",
   "execution_count": null,
   "metadata": {},
   "outputs": [],
   "source": []
  }
 ],
 "metadata": {
  "kernelspec": {
   "display_name": "Python 3 (ipykernel)",
   "language": "python",
   "name": "python3"
  },
  "language_info": {
   "codemirror_mode": {
    "name": "ipython",
    "version": 3
   },
   "file_extension": ".py",
   "mimetype": "text/x-python",
   "name": "python",
   "nbconvert_exporter": "python",
   "pygments_lexer": "ipython3",
   "version": "3.9.12"
  }
 },
 "nbformat": 4,
 "nbformat_minor": 2
}
