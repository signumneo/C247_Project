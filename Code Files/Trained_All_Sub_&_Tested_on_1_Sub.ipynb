{
 "cells": [
  {
   "cell_type": "markdown",
   "metadata": {},
   "source": [
    "## Trainied on all subject and test of 1 subject at person=0"
   ]
  },
  {
   "cell_type": "markdown",
   "metadata": {},
   "source": [
    "### Importing the necessary pakages"
   ]
  },
  {
   "cell_type": "code",
   "execution_count": 1,
   "metadata": {},
   "outputs": [],
   "source": [
    "import numpy as np\n",
    "import pandas as pd\n",
    "import keras\n",
    "from keras.models import Sequential\n",
    "from keras.layers import Dense, Activation, Flatten,Dropout\n",
    "from keras.layers import Conv2D,LSTM,BatchNormalization,MaxPooling2D,Reshape\n",
    "from keras.utils import to_categorical\n",
    "import matplotlib.pyplot as plt\n",
    "from keras import regularizers\n",
    "from keras.layers import LeakyReLU\n",
    "from sklearn.model_selection import train_test_split"
   ]
  },
  {
   "cell_type": "markdown",
   "metadata": {},
   "source": [
    "### Preprocessing the given dataset"
   ]
  },
  {
   "cell_type": "code",
   "execution_count": 2,
   "metadata": {},
   "outputs": [],
   "source": [
    "def data_prep(X,y,sub_sample,average,noise):\n",
    "    \n",
    "    total_X = None\n",
    "    total_y = None\n",
    "    \n",
    "    # Trimming the data (sample,22,1000) -> (sample,22,500)\n",
    "    X = X[:,:,0:500]\n",
    "    print('Shape of X after trimming:',X.shape)\n",
    "    \n",
    "    # Maxpooling the data (sample,22,1000) -> (sample,22,500/sub_sample)\n",
    "    X_max = np.max(X.reshape(X.shape[0], X.shape[1], -1, sub_sample), axis=3)\n",
    "    \n",
    "    \n",
    "    total_X = X_max\n",
    "    total_y = y\n",
    "    print('Shape of X after maxpooling:',total_X.shape)\n",
    "    \n",
    "    # Averaging + noise \n",
    "    X_average = np.mean(X.reshape(X.shape[0], X.shape[1], -1, average),axis=3)\n",
    "    X_average = X_average + np.random.normal(0.0, 0.5, X_average.shape)\n",
    "    \n",
    "    total_X = np.vstack((total_X, X_average))\n",
    "    total_y = np.hstack((total_y, y))\n",
    "    print('Shape of X after averaging+noise and concatenating:',total_X.shape)\n",
    "    \n",
    "    # Subsampling\n",
    "    \n",
    "    for i in range(sub_sample):\n",
    "        \n",
    "        X_subsample = X[:, :, i::sub_sample] + \\\n",
    "                            (np.random.normal(0.0, 0.5, X[:, :,i::sub_sample].shape) if noise else 0.0)\n",
    "            \n",
    "        total_X = np.vstack((total_X, X_subsample))\n",
    "        total_y = np.hstack((total_y, y))\n",
    "        \n",
    "    \n",
    "    print('Shape of X after subsampling and concatenating:',total_X.shape)\n",
    "    return total_X,total_y\n",
    "\n"
   ]
  },
  {
   "cell_type": "markdown",
   "metadata": {},
   "source": [
    "### Loading given dataset and chekcing their dimensions"
   ]
  },
  {
   "cell_type": "code",
   "execution_count": 3,
   "metadata": {},
   "outputs": [
    {
     "name": "stdout",
     "output_type": "stream",
     "text": [
      "Training/Valid data shape: (2115, 22, 1000)\n",
      "Test data shape: (443, 22, 1000)\n",
      "Training/Valid target shape: (2115,)\n",
      "Test target shape: (443,)\n",
      "Person train/valid shape: (2115, 1)\n",
      "Person test shape: (443, 1)\n"
     ]
    }
   ],
   "source": [
    "## Loading the dataset\n",
    "\n",
    "\n",
    "X_test = np.load(\"X_test.npy\")\n",
    "y_test = np.load(\"y_test.npy\")\n",
    "person_train_valid = np.load(\"person_train_valid.npy\")\n",
    "X_train_valid = np.load(\"X_train_valid.npy\")\n",
    "y_train_valid = np.load(\"y_train_valid.npy\")\n",
    "person_test = np.load(\"person_test.npy\")\n",
    "\n",
    "## Adjusting the labels so that \n",
    "\n",
    "# Cue onset left - 0\n",
    "# Cue onset right - 1\n",
    "# Cue onset foot - 2\n",
    "# Cue onset tongue - 3\n",
    "\n",
    "y_train_valid -= 769\n",
    "y_test -= 769\n",
    "\n",
    "print ('Training/Valid data shape: {}'.format(X_train_valid.shape))\n",
    "print ('Test data shape: {}'.format(X_test.shape))\n",
    "print ('Training/Valid target shape: {}'.format(y_train_valid.shape))\n",
    "print ('Test target shape: {}'.format(y_test.shape))\n",
    "print ('Person train/valid shape: {}'.format(person_train_valid.shape))\n",
    "print ('Person test shape: {}'.format(person_test.shape))"
   ]
  },
  {
   "cell_type": "markdown",
   "metadata": {},
   "source": [
    "### Checking the unique values and their counts in train and test data for every subject with plot"
   ]
  },
  {
   "cell_type": "code",
   "execution_count": 4,
   "metadata": {},
   "outputs": [
    {
     "name": "stdout",
     "output_type": "stream",
     "text": [
      "person_train_valid = 0:237 1:236 2:236 3:234 4:235 5:236 6:238 7:232 8:231 "
     ]
    }
   ],
   "source": [
    "unique_values_train, value_counts_train = np.unique(person_train_valid, return_counts=True)\n",
    "print(\"person_train_valid = \", end=\"\")\n",
    "# print unique values and their counts\n",
    "for value, count in zip(unique_values_train, value_counts_train):\n",
    "    print(f\"{int(value)}:{count}\", end=\" \")"
   ]
  },
  {
   "cell_type": "code",
   "execution_count": 5,
   "metadata": {},
   "outputs": [
    {
     "name": "stdout",
     "output_type": "stream",
     "text": [
      "person_test = 0:50 1:50 2:50 3:50 4:47 5:49 6:50 7:50 8:47 "
     ]
    }
   ],
   "source": [
    "unique_values_test, value_counts_test = np.unique(person_test, return_counts=True)\n",
    "print(\"person_test = \", end=\"\")\n",
    "# print unique values and their counts\n",
    "for value, count in zip(unique_values_test, value_counts_test):\n",
    "    print(f\"{int(value)}:{count}\", end=\" \")"
   ]
  },
  {
   "cell_type": "code",
   "execution_count": 6,
   "metadata": {},
   "outputs": [
    {
     "data": {
      "image/png": "[encoded data removed]",
      "text/plain": [
       "<Figure size 864x216 with 2 Axes>"
      ]
     },
     "metadata": {
      "needs_background": "light"
     },
     "output_type": "display_data"
    }
   ],
   "source": [
    "import matplotlib.pyplot as plt\n",
    "\n",
    "# create a figure with two subplots\n",
    "fig, (ax1, ax2) = plt.subplots(1, 2, figsize=(12, 3))\n",
    "\n",
    "# plotting the person_train_valid plot in the first subplot\n",
    "ax1.bar(unique_values_train, value_counts_train)\n",
    "for i, count in enumerate(value_counts_train):\n",
    "    ax1.text(unique_values_train[i], count+0.1, str(count), ha='center')\n",
    "ax1.set_xticks(unique_values_train)\n",
    "ax1.set_xlabel('unique_values_train')\n",
    "ax1.set_ylabel('Count')\n",
    "ax1.set_title('Counts of unique_values_train in person_train_valid')\n",
    "\n",
    "# plotting the person_test plot in the second subplot\n",
    "ax2.bar(unique_values_test, value_counts_test)\n",
    "for i, count in enumerate(value_counts_test):\n",
    "    ax2.text(unique_values_test[i], count+0.1, str(count), ha='center')\n",
    "ax2.set_xticks(unique_values_test)\n",
    "ax2.set_xlabel('unique_values_test')\n",
    "ax2.set_ylabel('Count')\n",
    "ax2.set_title('Counts of unique_values_test in person_test')\n",
    "\n",
    "# adjust spacing between subplots\n",
    "plt.subplots_adjust(wspace=0.5)\n",
    "\n",
    "# display the figure\n",
    "plt.show()\n"
   ]
  },
  {
   "cell_type": "markdown",
   "metadata": {},
   "source": [
    "### Extracting subject 1 data at person = 0 for train and test"
   ]
  },
  {
   "cell_type": "markdown",
   "metadata": {},
   "source": [
    "## not running now for each person"
   ]
  },
  {
   "cell_type": "code",
   "execution_count": 7,
   "metadata": {},
   "outputs": [
    {
     "name": "stdout",
     "output_type": "stream",
     "text": [
      "train_valid_idx for 1 sub of person_train_valid equals 0 is (2, 237) first bar in 1st plot\n",
      "X_train_valid_person_sub1 data for sub 1 shape is =  (237, 22, 1000)\n",
      "y_train_valid_person_sub1 data for sub 1 shape is =  (237,)\n"
     ]
    }
   ],
   "source": [
    "train_valid_idx=np.where(person_train_valid == 0)\n",
    "print(f\"train_valid_idx for 1 sub of person_train_valid equals 0 is {np.array(train_valid_idx).shape} first bar in 1st plot\")\n",
    "\n",
    "# using obtained index we get X_train_valid values of that subject\n",
    "X_train_valid_person_sub1=X_train_valid[train_valid_idx[0]]\n",
    "print(\"X_train_valid_person_sub1 data for sub 1 shape is = \",np.array(X_train_valid_person_sub1).shape)\n",
    "\n",
    "#similarly for y_train_valid data usings same index we get for sub 1\n",
    "y_train_valid_person_sub1=y_train_valid[train_valid_idx[0]]\n",
    "print(\"y_train_valid_person_sub1 data for sub 1 shape is = \",np.array(y_train_valid_person_sub1).shape)"
   ]
  },
  {
   "cell_type": "code",
   "execution_count": 8,
   "metadata": {},
   "outputs": [
    {
     "name": "stdout",
     "output_type": "stream",
     "text": [
      "test_idx for 1 sub of person_test equals 0 is (2, 50) first bar in 2nd plot\n",
      "X_test_person_sub1 data for sub 1 shape is =  (50, 22, 1000)\n",
      "y_test_person_sub1 data for sub 1 shape is =  (50,)\n"
     ]
    }
   ],
   "source": [
    "test_idx=np.where(person_test==0)\n",
    "print(f\"test_idx for 1 sub of person_test equals 0 is {np.array(test_idx).shape} first bar in 2nd plot\")\n",
    "\n",
    "# using obtained index we get X_test values of that subject\n",
    "X_test_person_sub1=X_test[test_idx[0]]\n",
    "print(\"X_test_person_sub1 data for sub 1 shape is = \",np.array(X_test_person_sub1).shape)\n",
    "\n",
    "#similarly for y_test data usings same index we get for sub 1\n",
    "y_test_person_sub1=y_test[test_idx[0]]\n",
    "print(\"y_test_person_sub1 data for sub 1 shape is = \",np.array(y_test_person_sub1).shape)"
   ]
  },
  {
   "cell_type": "code",
   "execution_count": 9,
   "metadata": {},
   "outputs": [
    {
     "data": {
      "text/plain": [
       "(50, 22, 1000)"
      ]
     },
     "execution_count": 9,
     "metadata": {},
     "output_type": "execute_result"
    }
   ],
   "source": [
    "np.array(X_test_person_sub1).shape"
   ]
  },
  {
   "cell_type": "markdown",
   "metadata": {},
   "source": [
    "### Preprocessing data"
   ]
  },
  {
   "cell_type": "code",
   "execution_count": 10,
   "metadata": {},
   "outputs": [],
   "source": [
    "## Random splitting and reshaping the data\n",
    "# First generating the training and validation indices using random splitting\n",
    "\n",
    "\n",
    "#ind_valid = np.random.choice(237, 42, replace=False) #2115 375\n",
    "#ind_train = np.array(list(set(range(237)).difference(set(ind_valid))))\n",
    "\n",
    "ind_valid = np.random.choice(2115, 375, replace=False) #2117 375\n",
    "ind_train = np.array(list(set(range(2115)).difference(set(ind_valid))))\n",
    "\n",
    "# Creating the training and validation sets using the generated indices for sub1\n",
    "#(X_train, X_valid) = X_train_valid_person_sub1[ind_train], X_train_valid_person_sub1[ind_valid] \n",
    "#(y_train, y_valid) = y_train_valid_person_sub1[ind_train], y_train_valid_person_sub1[ind_valid]\n",
    "\n",
    "# Creating the training and validation sets using the generated indices for all subject\n",
    "(X_train, X_valid) = X_train_valid[ind_train], X_train_valid[ind_valid] \n",
    "(y_train, y_valid) = y_train_valid[ind_train], y_train_valid[ind_valid]\n"
   ]
  },
  {
   "cell_type": "code",
   "execution_count": 11,
   "metadata": {},
   "outputs": [
    {
     "data": {
      "text/plain": [
       "(375,)"
      ]
     },
     "execution_count": 11,
     "metadata": {},
     "output_type": "execute_result"
    }
   ],
   "source": [
    "y_valid.shape"
   ]
  },
  {
   "cell_type": "code",
   "execution_count": 12,
   "metadata": {},
   "outputs": [
    {
     "name": "stdout",
     "output_type": "stream",
     "text": [
      "Shape of X after trimming: (1740, 22, 500)\n",
      "Shape of X after maxpooling: (1740, 22, 250)\n",
      "Shape of X after averaging+noise and concatenating: (3480, 22, 250)\n",
      "Shape of X after subsampling and concatenating: (6960, 22, 250)\n"
     ]
    }
   ],
   "source": [
    "\n",
    "## Preprocessing the dataset\n",
    "x_train,y_train = data_prep(X_train,y_train,2,2,True)\n"
   ]
  },
  {
   "cell_type": "code",
   "execution_count": 13,
   "metadata": {},
   "outputs": [
    {
     "name": "stdout",
     "output_type": "stream",
     "text": [
      "Shape of X after trimming: (375, 22, 500)\n",
      "Shape of X after maxpooling: (375, 22, 250)\n",
      "Shape of X after averaging+noise and concatenating: (750, 22, 250)\n",
      "Shape of X after subsampling and concatenating: (1500, 22, 250)\n"
     ]
    }
   ],
   "source": [
    "x_valid,y_valid = data_prep(X_valid,y_valid,2,2,True)\n"
   ]
  },
  {
   "cell_type": "code",
   "execution_count": 14,
   "metadata": {},
   "outputs": [
    {
     "name": "stdout",
     "output_type": "stream",
     "text": [
      "Shape of X after trimming: (50, 22, 500)\n",
      "Shape of X after maxpooling: (50, 22, 250)\n",
      "Shape of X after averaging+noise and concatenating: (100, 22, 250)\n",
      "Shape of X after subsampling and concatenating: (200, 22, 250)\n"
     ]
    }
   ],
   "source": [
    "X_test_prep, y_test_prep = data_prep(X_test_person_sub1, y_test_person_sub1, 2,2,True)\n",
    "#X_test_prep,y_test_prep = data_prep(X_test,y_test,2,2,True)"
   ]
  },
  {
   "cell_type": "code",
   "execution_count": 15,
   "metadata": {},
   "outputs": [
    {
     "name": "stdout",
     "output_type": "stream",
     "text": [
      "Shape of testing set: (200, 22, 250)\n",
      "Shape of testing labels: (200,)\n",
      "\n",
      "Shape of training set: (6960, 22, 250)\n",
      "Shape of validation set: (1500, 22, 250)\n",
      "Shape of training labels: (6960,)\n",
      "Shape of validation labels: (1500,)\n"
     ]
    }
   ],
   "source": [
    "print('Shape of testing set:',X_test_prep.shape)\n",
    "print('Shape of testing labels:',y_test_prep.shape)\n",
    "print()\n",
    "print('Shape of training set:',x_train.shape)\n",
    "print('Shape of validation set:',x_valid.shape)\n",
    "print('Shape of training labels:',y_train.shape)\n",
    "print('Shape of validation labels:',y_valid.shape)"
   ]
  },
  {
   "cell_type": "code",
   "execution_count": 16,
   "metadata": {},
   "outputs": [
    {
     "name": "stdout",
     "output_type": "stream",
     "text": [
      "Shape of training labels after categorical conversion: (6960, 4)\n",
      "Shape of validation labels after categorical conversion: (1500, 4)\n",
      "Shape of test labels after categorical conversion: (200, 4)\n"
     ]
    }
   ],
   "source": [
    "# Converting the labels to categorical variables for multiclass classification\n",
    "y_train = to_categorical(y_train, 4)\n",
    "y_valid = to_categorical(y_valid, 4)\n",
    "y_test = to_categorical(y_test_prep, 4)\n",
    "print('Shape of training labels after categorical conversion:',y_train.shape)\n",
    "print('Shape of validation labels after categorical conversion:',y_valid.shape)\n",
    "print('Shape of test labels after categorical conversion:',y_test.shape)"
   ]
  },
  {
   "cell_type": "code",
   "execution_count": 17,
   "metadata": {},
   "outputs": [
    {
     "name": "stdout",
     "output_type": "stream",
     "text": [
      "Shape of training set after adding width info: (6960, 22, 250, 1)\n",
      "Shape of validation set after adding width info: (1500, 22, 250, 1)\n",
      "Shape of test set after adding width info: (200, 22, 250, 1)\n"
     ]
    }
   ],
   "source": [
    "# Adding width of the segment to be 1\n",
    "x_train = x_train.reshape(x_train.shape[0], x_train.shape[1], x_train.shape[2], 1)\n",
    "x_valid = x_valid.reshape(x_valid.shape[0], x_valid.shape[1], x_train.shape[2], 1)\n",
    "x_test = X_test_prep.reshape(X_test_prep.shape[0], X_test_prep.shape[1], X_test_prep.shape[2], 1)\n",
    "print('Shape of training set after adding width info:',x_train.shape)\n",
    "print('Shape of validation set after adding width info:',x_valid.shape)\n",
    "print('Shape of test set after adding width info:',x_test.shape)"
   ]
  },
  {
   "cell_type": "code",
   "execution_count": 18,
   "metadata": {},
   "outputs": [
    {
     "data": {
      "text/plain": [
       "(200, 22, 250, 1)"
      ]
     },
     "execution_count": 18,
     "metadata": {},
     "output_type": "execute_result"
    }
   ],
   "source": [
    "x_test.shape"
   ]
  },
  {
   "cell_type": "code",
   "execution_count": 19,
   "metadata": {},
   "outputs": [
    {
     "name": "stdout",
     "output_type": "stream",
     "text": [
      "Shape of training set after dimension reshaping: (6960, 250, 1, 22)\n",
      "Shape of validation set after dimension reshaping: (1500, 250, 1, 22)\n",
      "Shape of test set after dimension reshaping: (200, 250, 1, 22)\n"
     ]
    }
   ],
   "source": [
    "# Reshaping the training and validation dataset\n",
    "x_train = np.swapaxes(x_train, 1,3)\n",
    "x_train = np.swapaxes(x_train, 1,2)\n",
    "x_valid = np.swapaxes(x_valid, 1,3)\n",
    "x_valid = np.swapaxes(x_valid, 1,2)\n",
    "x_test = np.swapaxes(x_test, 1,3)\n",
    "x_test = np.swapaxes(x_test, 1,2)\n",
    "print('Shape of training set after dimension reshaping:',x_train.shape)\n",
    "print('Shape of validation set after dimension reshaping:',x_valid.shape)\n",
    "print('Shape of test set after dimension reshaping:',x_test.shape)"
   ]
  },
  {
   "cell_type": "markdown",
   "metadata": {},
   "source": [
    "### Shape of data"
   ]
  },
  {
   "cell_type": "markdown",
   "metadata": {},
   "source": [
    "### CNN_LSTM\n",
    "#### 4 Convolution block\n",
    "#### FC+LSTM \n",
    "#### Activation = LeakyRelu\n",
    "#### Filters = 20, 40, 80, 160"
   ]
  },
  {
   "cell_type": "code",
   "execution_count": 20,
   "metadata": {},
   "outputs": [
    {
     "name": "stdout",
     "output_type": "stream",
     "text": [
      "Model: \"sequential\"\n",
      "_________________________________________________________________\n",
      " Layer (type)                Output Shape              Param #   \n",
      "=================================================================\n",
      " conv2d (Conv2D)             (None, 250, 1, 20)        4420      \n",
      "                                                                 \n",
      " max_pooling2d (MaxPooling2D  (None, 84, 1, 20)        0         \n",
      " )                                                               \n",
      "                                                                 \n",
      " batch_normalization (BatchN  (None, 84, 1, 20)        80        \n",
      " ormalization)                                                   \n",
      "                                                                 \n",
      " dropout (Dropout)           (None, 84, 1, 20)         0         \n",
      "                                                                 \n",
      " conv2d_1 (Conv2D)           (None, 84, 1, 40)         8040      \n",
      "                                                                 \n",
      " max_pooling2d_1 (MaxPooling  (None, 28, 1, 40)        0         \n",
      " 2D)                                                             \n",
      "                                                                 \n",
      " batch_normalization_1 (Batc  (None, 28, 1, 40)        160       \n",
      " hNormalization)                                                 \n",
      "                                                                 \n",
      " dropout_1 (Dropout)         (None, 28, 1, 40)         0         \n",
      "                                                                 \n",
      " conv2d_2 (Conv2D)           (None, 28, 1, 80)         32080     \n",
      "                                                                 \n",
      " max_pooling2d_2 (MaxPooling  (None, 10, 1, 80)        0         \n",
      " 2D)                                                             \n",
      "                                                                 \n",
      " batch_normalization_2 (Batc  (None, 10, 1, 80)        320       \n",
      " hNormalization)                                                 \n",
      "                                                                 \n",
      " dropout_2 (Dropout)         (None, 10, 1, 80)         0         \n",
      "                                                                 \n",
      " conv2d_3 (Conv2D)           (None, 10, 1, 160)        128160    \n",
      "                                                                 \n",
      " max_pooling2d_3 (MaxPooling  (None, 4, 1, 160)        0         \n",
      " 2D)                                                             \n",
      "                                                                 \n",
      " batch_normalization_3 (Batc  (None, 4, 1, 160)        640       \n",
      " hNormalization)                                                 \n",
      "                                                                 \n",
      " dropout_3 (Dropout)         (None, 4, 1, 160)         0         \n",
      "                                                                 \n",
      " flatten (Flatten)           (None, 640)               0         \n",
      "                                                                 \n",
      " dense (Dense)               (None, 100)               64100     \n",
      "                                                                 \n",
      " reshape (Reshape)           (None, 100, 1)            0         \n",
      "                                                                 \n",
      " lstm (LSTM)                 (None, 160)               103680    \n",
      "                                                                 \n",
      " reshape_1 (Reshape)         (None, 1, 160)            0         \n",
      "                                                                 \n",
      " lstm_1 (LSTM)               (None, 10)                6840      \n",
      "                                                                 \n",
      " dense_1 (Dense)             (None, 4)                 44        \n",
      "                                                                 \n",
      "=================================================================\n",
      "Total params: 348,564\n",
      "Trainable params: 347,964\n",
      "Non-trainable params: 600\n",
      "_________________________________________________________________\n"
     ]
    }
   ],
   "source": [
    "# Building the CNN model using sequential class\n",
    "hybrid_cnn_lstm_model = Sequential()\n",
    "\n",
    "#activation=LeakyReLU(alpha=0.2)\n",
    "activation='relu'\n",
    "# Conv. block 1\n",
    "hybrid_cnn_lstm_model.add(Conv2D(filters=20, kernel_size=(10,1), padding='same', activation=activation, input_shape=(250,1,22)))\n",
    "hybrid_cnn_lstm_model.add(MaxPooling2D(pool_size=(3,1), padding='same')) # Read the keras documentation\n",
    "hybrid_cnn_lstm_model.add(BatchNormalization())\n",
    "hybrid_cnn_lstm_model.add(Dropout(0.5))\n",
    "\n",
    "# Conv. block 2\n",
    "hybrid_cnn_lstm_model.add(Conv2D(filters=40, kernel_size=(10,1), padding='same', activation=activation))\n",
    "hybrid_cnn_lstm_model.add(MaxPooling2D(pool_size=(3,1), padding='same'))\n",
    "hybrid_cnn_lstm_model.add(BatchNormalization())\n",
    "hybrid_cnn_lstm_model.add(Dropout(0.5))\n",
    "\n",
    "# Conv. block 3\n",
    "hybrid_cnn_lstm_model.add(Conv2D(filters=80, kernel_size=(10,1), padding='same', activation=activation))\n",
    "hybrid_cnn_lstm_model.add(MaxPooling2D(pool_size=(3,1), padding='same'))\n",
    "hybrid_cnn_lstm_model.add(BatchNormalization())\n",
    "hybrid_cnn_lstm_model.add(Dropout(0.5))\n",
    "\n",
    "# Conv. block 4\n",
    "hybrid_cnn_lstm_model.add(Conv2D(filters=160, kernel_size=(10,1), padding='same', activation=activation))\n",
    "hybrid_cnn_lstm_model.add(MaxPooling2D(pool_size=(3,1), padding='same'))\n",
    "hybrid_cnn_lstm_model.add(BatchNormalization())\n",
    "hybrid_cnn_lstm_model.add(Dropout(0.5))\n",
    "\n",
    "# FC+LSTM layers\n",
    "hybrid_cnn_lstm_model.add(Flatten()) # Adding a flattening operation to the output of CNN block\n",
    "hybrid_cnn_lstm_model.add(Dense((100))) # FC layer with 100 units\n",
    "hybrid_cnn_lstm_model.add(Reshape((100,1))) # Reshape my output of FC layer so that it's compatible\n",
    "hybrid_cnn_lstm_model.add(LSTM(160, dropout=0.6, recurrent_dropout=0.1, input_shape=(100,1), return_sequences=False))\n",
    "hybrid_cnn_lstm_model.add(Reshape((1, 160)))\n",
    "hybrid_cnn_lstm_model.add(LSTM(10, dropout=0.6, recurrent_dropout=0.1, input_shape=(100,1), return_sequences=False))\n",
    "\n",
    "# Output layer with Softmax activation \n",
    "hybrid_cnn_lstm_model.add(Dense(4, activation='softmax')) # Output FC layer with softmax activation\n",
    "\n",
    "\n",
    "# Printing the model summary\n",
    "hybrid_cnn_lstm_model.summary()\n"
   ]
  },
  {
   "cell_type": "code",
   "execution_count": 21,
   "metadata": {},
   "outputs": [
    {
     "data": {
      "text/plain": [
       "(200, 250, 1, 22)"
      ]
     },
     "execution_count": 21,
     "metadata": {},
     "output_type": "execute_result"
    }
   ],
   "source": [
    "x_test.shape"
   ]
  },
  {
   "cell_type": "code",
   "execution_count": 22,
   "metadata": {},
   "outputs": [
    {
     "name": "stderr",
     "output_type": "stream",
     "text": [
      "C:\\Users\\swaga\\AppData\\Roaming\\Python\\Python39\\site-packages\\keras\\optimizers\\optimizer_v2\\adam.py:117: UserWarning: The `lr` argument is deprecated, use `learning_rate` instead.\n",
      "  super().__init__(name, **kwargs)\n"
     ]
    }
   ],
   "source": [
    "# Model parameters\n",
    "learning_rate = 1e-3\n",
    "epochs = 80\n",
    "hybrid_cnn_lstm_optimizer = keras.optimizers.Adam(lr=learning_rate)"
   ]
  },
  {
   "cell_type": "code",
   "execution_count": 23,
   "metadata": {},
   "outputs": [
    {
     "name": "stdout",
     "output_type": "stream",
     "text": [
      "Epoch 1/80\n",
      "109/109 [==============================] - 29s 234ms/step - loss: 1.3600 - accuracy: 0.2993 - val_loss: 1.3459 - val_accuracy: 0.3700\n",
      "Epoch 2/80\n",
      "109/109 [==============================] - 28s 260ms/step - loss: 1.2805 - accuracy: 0.4050 - val_loss: 1.2228 - val_accuracy: 0.4447\n",
      "Epoch 3/80\n",
      "109/109 [==============================] - 26s 235ms/step - loss: 1.2322 - accuracy: 0.4376 - val_loss: 1.1604 - val_accuracy: 0.4840\n",
      "Epoch 4/80\n",
      "109/109 [==============================] - 25s 226ms/step - loss: 1.1842 - accuracy: 0.4648 - val_loss: 1.1532 - val_accuracy: 0.4620\n",
      "Epoch 5/80\n",
      "109/109 [==============================] - 25s 226ms/step - loss: 1.1596 - accuracy: 0.4802 - val_loss: 1.2124 - val_accuracy: 0.3947\n",
      "Epoch 6/80\n",
      "109/109 [==============================] - 26s 236ms/step - loss: 1.1228 - accuracy: 0.4925 - val_loss: 1.1545 - val_accuracy: 0.4900\n",
      "Epoch 7/80\n",
      "109/109 [==============================] - 26s 238ms/step - loss: 1.0993 - accuracy: 0.5131 - val_loss: 1.1064 - val_accuracy: 0.4800\n",
      "Epoch 8/80\n",
      "109/109 [==============================] - 24s 221ms/step - loss: 1.0837 - accuracy: 0.5091 - val_loss: 1.0736 - val_accuracy: 0.5113\n",
      "Epoch 9/80\n",
      "109/109 [==============================] - 23s 215ms/step - loss: 1.0585 - accuracy: 0.5207 - val_loss: 1.1354 - val_accuracy: 0.4600\n",
      "Epoch 10/80\n",
      "109/109 [==============================] - 22s 204ms/step - loss: 1.0490 - accuracy: 0.5371 - val_loss: 1.1273 - val_accuracy: 0.4793\n",
      "Epoch 11/80\n",
      "109/109 [==============================] - 22s 202ms/step - loss: 1.0346 - accuracy: 0.5405 - val_loss: 1.1099 - val_accuracy: 0.4907\n",
      "Epoch 12/80\n",
      "109/109 [==============================] - 22s 206ms/step - loss: 1.0146 - accuracy: 0.5440 - val_loss: 1.0978 - val_accuracy: 0.5080\n",
      "Epoch 13/80\n",
      "109/109 [==============================] - 22s 206ms/step - loss: 1.0106 - accuracy: 0.5527 - val_loss: 1.0640 - val_accuracy: 0.5173\n",
      "Epoch 14/80\n",
      "109/109 [==============================] - 23s 208ms/step - loss: 0.9867 - accuracy: 0.5632 - val_loss: 1.0723 - val_accuracy: 0.5473\n",
      "Epoch 15/80\n",
      "109/109 [==============================] - 22s 206ms/step - loss: 0.9618 - accuracy: 0.5747 - val_loss: 1.1054 - val_accuracy: 0.5427\n",
      "Epoch 16/80\n",
      "109/109 [==============================] - 23s 210ms/step - loss: 0.9612 - accuracy: 0.5713 - val_loss: 1.0350 - val_accuracy: 0.5487\n",
      "Epoch 17/80\n",
      "109/109 [==============================] - 23s 207ms/step - loss: 0.9378 - accuracy: 0.5846 - val_loss: 1.0822 - val_accuracy: 0.4913\n",
      "Epoch 18/80\n",
      "109/109 [==============================] - 22s 204ms/step - loss: 0.9229 - accuracy: 0.5987 - val_loss: 1.0421 - val_accuracy: 0.5473\n",
      "Epoch 19/80\n",
      "109/109 [==============================] - 23s 208ms/step - loss: 0.9221 - accuracy: 0.5953 - val_loss: 1.0299 - val_accuracy: 0.5413\n",
      "Epoch 20/80\n",
      "109/109 [==============================] - 26s 236ms/step - loss: 0.9042 - accuracy: 0.6135 - val_loss: 1.0365 - val_accuracy: 0.5393\n",
      "Epoch 21/80\n",
      "109/109 [==============================] - 23s 210ms/step - loss: 0.8949 - accuracy: 0.6151 - val_loss: 1.0618 - val_accuracy: 0.5233\n",
      "Epoch 22/80\n",
      "109/109 [==============================] - 23s 211ms/step - loss: 0.8777 - accuracy: 0.6299 - val_loss: 0.9969 - val_accuracy: 0.5793\n",
      "Epoch 23/80\n",
      "109/109 [==============================] - 23s 213ms/step - loss: 0.8628 - accuracy: 0.6381 - val_loss: 1.0240 - val_accuracy: 0.5453\n",
      "Epoch 24/80\n",
      "109/109 [==============================] - 23s 209ms/step - loss: 0.8533 - accuracy: 0.6484 - val_loss: 0.9871 - val_accuracy: 0.6080\n",
      "Epoch 25/80\n",
      "109/109 [==============================] - 22s 204ms/step - loss: 0.8379 - accuracy: 0.6552 - val_loss: 0.9860 - val_accuracy: 0.6160\n",
      "Epoch 26/80\n",
      "109/109 [==============================] - 23s 208ms/step - loss: 0.8297 - accuracy: 0.6697 - val_loss: 0.9325 - val_accuracy: 0.6067\n",
      "Epoch 27/80\n",
      "109/109 [==============================] - 23s 207ms/step - loss: 0.8084 - accuracy: 0.6763 - val_loss: 0.9932 - val_accuracy: 0.6173\n",
      "Epoch 28/80\n",
      "109/109 [==============================] - 22s 204ms/step - loss: 0.8134 - accuracy: 0.6813 - val_loss: 0.9125 - val_accuracy: 0.6333\n",
      "Epoch 29/80\n",
      "109/109 [==============================] - 22s 206ms/step - loss: 0.7987 - accuracy: 0.6829 - val_loss: 0.9051 - val_accuracy: 0.6307\n",
      "Epoch 30/80\n",
      "109/109 [==============================] - 22s 206ms/step - loss: 0.7738 - accuracy: 0.7017 - val_loss: 0.9243 - val_accuracy: 0.6347\n",
      "Epoch 31/80\n",
      "109/109 [==============================] - 22s 205ms/step - loss: 0.7476 - accuracy: 0.7154 - val_loss: 0.9369 - val_accuracy: 0.6413\n",
      "Epoch 32/80\n",
      "109/109 [==============================] - 22s 206ms/step - loss: 0.7536 - accuracy: 0.7122 - val_loss: 0.9157 - val_accuracy: 0.6307\n",
      "Epoch 33/80\n",
      "109/109 [==============================] - 22s 206ms/step - loss: 0.7255 - accuracy: 0.7239 - val_loss: 0.8803 - val_accuracy: 0.6620\n",
      "Epoch 34/80\n",
      "109/109 [==============================] - 23s 208ms/step - loss: 0.7237 - accuracy: 0.7267 - val_loss: 0.9208 - val_accuracy: 0.6353\n",
      "Epoch 35/80\n",
      "109/109 [==============================] - 23s 208ms/step - loss: 0.7022 - accuracy: 0.7392 - val_loss: 0.8768 - val_accuracy: 0.6447\n",
      "Epoch 36/80\n",
      "109/109 [==============================] - 23s 211ms/step - loss: 0.6844 - accuracy: 0.7483 - val_loss: 0.9182 - val_accuracy: 0.6333\n",
      "Epoch 37/80\n",
      "109/109 [==============================] - 23s 209ms/step - loss: 0.6921 - accuracy: 0.7382 - val_loss: 0.9228 - val_accuracy: 0.6367\n",
      "Epoch 38/80\n",
      "109/109 [==============================] - 23s 212ms/step - loss: 0.6797 - accuracy: 0.7453 - val_loss: 0.9222 - val_accuracy: 0.6527\n",
      "Epoch 39/80\n",
      "109/109 [==============================] - 23s 212ms/step - loss: 0.6494 - accuracy: 0.7603 - val_loss: 0.8432 - val_accuracy: 0.6653\n",
      "Epoch 40/80\n",
      "109/109 [==============================] - 23s 211ms/step - loss: 0.6593 - accuracy: 0.7556 - val_loss: 0.8482 - val_accuracy: 0.6487\n",
      "Epoch 41/80\n",
      "109/109 [==============================] - 23s 209ms/step - loss: 0.6364 - accuracy: 0.7690 - val_loss: 0.9115 - val_accuracy: 0.6527\n",
      "Epoch 42/80\n",
      "109/109 [==============================] - 23s 209ms/step - loss: 0.6321 - accuracy: 0.7662 - val_loss: 0.8455 - val_accuracy: 0.6680\n",
      "Epoch 43/80\n",
      "109/109 [==============================] - 23s 209ms/step - loss: 0.6070 - accuracy: 0.7753 - val_loss: 0.8772 - val_accuracy: 0.6667\n",
      "Epoch 44/80\n",
      "109/109 [==============================] - 23s 212ms/step - loss: 0.6019 - accuracy: 0.7764 - val_loss: 0.8894 - val_accuracy: 0.6740\n",
      "Epoch 45/80\n",
      "109/109 [==============================] - 23s 207ms/step - loss: 0.6061 - accuracy: 0.7760 - val_loss: 0.8749 - val_accuracy: 0.6613\n",
      "Epoch 46/80\n",
      "109/109 [==============================] - 23s 214ms/step - loss: 0.6014 - accuracy: 0.7796 - val_loss: 0.8550 - val_accuracy: 0.6893\n",
      "Epoch 47/80\n",
      "109/109 [==============================] - 23s 212ms/step - loss: 0.6076 - accuracy: 0.7727 - val_loss: 0.8145 - val_accuracy: 0.6880\n",
      "Epoch 48/80\n",
      "109/109 [==============================] - 23s 210ms/step - loss: 0.5766 - accuracy: 0.7927 - val_loss: 0.8063 - val_accuracy: 0.6887\n",
      "Epoch 49/80\n",
      "109/109 [==============================] - 24s 216ms/step - loss: 0.5626 - accuracy: 0.7935 - val_loss: 0.8010 - val_accuracy: 0.6953\n",
      "Epoch 50/80\n",
      "109/109 [==============================] - 22s 203ms/step - loss: 0.5648 - accuracy: 0.7971 - val_loss: 0.8262 - val_accuracy: 0.6780\n",
      "Epoch 51/80\n",
      "109/109 [==============================] - 22s 202ms/step - loss: 0.5374 - accuracy: 0.8042 - val_loss: 0.7836 - val_accuracy: 0.7033\n",
      "Epoch 52/80\n",
      "109/109 [==============================] - 22s 202ms/step - loss: 0.5433 - accuracy: 0.7997 - val_loss: 0.8519 - val_accuracy: 0.6820\n",
      "Epoch 53/80\n",
      "109/109 [==============================] - 22s 202ms/step - loss: 0.5360 - accuracy: 0.8049 - val_loss: 0.7839 - val_accuracy: 0.6887\n",
      "Epoch 54/80\n",
      "109/109 [==============================] - 23s 207ms/step - loss: 0.5188 - accuracy: 0.8066 - val_loss: 0.8204 - val_accuracy: 0.6833\n",
      "Epoch 55/80\n",
      "109/109 [==============================] - 24s 216ms/step - loss: 0.5198 - accuracy: 0.8080 - val_loss: 0.7901 - val_accuracy: 0.6833\n",
      "Epoch 56/80\n",
      "109/109 [==============================] - 24s 220ms/step - loss: 0.5293 - accuracy: 0.8101 - val_loss: 0.7693 - val_accuracy: 0.7047\n",
      "Epoch 57/80\n",
      "109/109 [==============================] - 27s 247ms/step - loss: 0.5220 - accuracy: 0.8102 - val_loss: 0.8626 - val_accuracy: 0.6773\n",
      "Epoch 58/80\n",
      "109/109 [==============================] - 20s 180ms/step - loss: 0.5049 - accuracy: 0.8102 - val_loss: 0.8219 - val_accuracy: 0.6827\n",
      "Epoch 59/80\n",
      "109/109 [==============================] - 19s 172ms/step - loss: 0.4955 - accuracy: 0.8181 - val_loss: 0.7948 - val_accuracy: 0.6960\n",
      "Epoch 60/80\n",
      "109/109 [==============================] - 22s 202ms/step - loss: 0.4945 - accuracy: 0.8200 - val_loss: 0.7716 - val_accuracy: 0.6973\n",
      "Epoch 61/80\n",
      "109/109 [==============================] - 22s 201ms/step - loss: 0.4957 - accuracy: 0.8226 - val_loss: 0.7934 - val_accuracy: 0.7067\n",
      "Epoch 62/80\n",
      "109/109 [==============================] - 22s 204ms/step - loss: 0.4790 - accuracy: 0.8260 - val_loss: 0.8364 - val_accuracy: 0.6893\n",
      "Epoch 63/80\n",
      "109/109 [==============================] - 23s 215ms/step - loss: 0.4760 - accuracy: 0.8299 - val_loss: 0.8212 - val_accuracy: 0.6960\n",
      "Epoch 64/80\n",
      "109/109 [==============================] - 24s 217ms/step - loss: 0.4936 - accuracy: 0.8204 - val_loss: 0.8158 - val_accuracy: 0.6753\n",
      "Epoch 65/80\n",
      "109/109 [==============================] - 26s 237ms/step - loss: 0.4688 - accuracy: 0.8263 - val_loss: 0.8117 - val_accuracy: 0.7080\n",
      "Epoch 66/80\n",
      "109/109 [==============================] - 28s 256ms/step - loss: 0.4630 - accuracy: 0.8286 - val_loss: 0.8475 - val_accuracy: 0.6873\n",
      "Epoch 67/80\n",
      "109/109 [==============================] - 25s 228ms/step - loss: 0.4589 - accuracy: 0.8322 - val_loss: 0.7874 - val_accuracy: 0.6973\n",
      "Epoch 68/80\n",
      "109/109 [==============================] - 23s 208ms/step - loss: 0.4684 - accuracy: 0.8283 - val_loss: 0.7869 - val_accuracy: 0.6973\n",
      "Epoch 69/80\n",
      "109/109 [==============================] - 24s 217ms/step - loss: 0.4525 - accuracy: 0.8378 - val_loss: 0.7804 - val_accuracy: 0.6953\n",
      "Epoch 70/80\n",
      "109/109 [==============================] - 24s 218ms/step - loss: 0.4531 - accuracy: 0.8349 - val_loss: 0.8275 - val_accuracy: 0.6973\n",
      "Epoch 71/80\n",
      "109/109 [==============================] - 24s 216ms/step - loss: 0.4441 - accuracy: 0.8342 - val_loss: 0.8011 - val_accuracy: 0.7073\n",
      "Epoch 72/80\n",
      "109/109 [==============================] - 23s 210ms/step - loss: 0.4506 - accuracy: 0.8389 - val_loss: 0.7660 - val_accuracy: 0.7153\n",
      "Epoch 73/80\n",
      "109/109 [==============================] - 23s 208ms/step - loss: 0.4463 - accuracy: 0.8391 - val_loss: 0.8523 - val_accuracy: 0.6980\n",
      "Epoch 74/80\n",
      "109/109 [==============================] - 23s 213ms/step - loss: 0.4414 - accuracy: 0.8362 - val_loss: 0.8055 - val_accuracy: 0.7007\n",
      "Epoch 75/80\n",
      "109/109 [==============================] - 23s 212ms/step - loss: 0.4396 - accuracy: 0.8422 - val_loss: 0.7791 - val_accuracy: 0.7093\n",
      "Epoch 76/80\n",
      "109/109 [==============================] - 22s 204ms/step - loss: 0.4289 - accuracy: 0.8468 - val_loss: 0.8071 - val_accuracy: 0.6933\n",
      "Epoch 77/80\n",
      "109/109 [==============================] - 23s 206ms/step - loss: 0.4217 - accuracy: 0.8476 - val_loss: 0.7873 - val_accuracy: 0.7027\n",
      "Epoch 78/80\n",
      "109/109 [==============================] - 24s 216ms/step - loss: 0.4185 - accuracy: 0.8493 - val_loss: 0.8449 - val_accuracy: 0.6900\n",
      "Epoch 79/80\n",
      "109/109 [==============================] - 25s 230ms/step - loss: 0.4156 - accuracy: 0.8497 - val_loss: 0.8049 - val_accuracy: 0.6960\n",
      "Epoch 80/80\n",
      "109/109 [==============================] - 23s 211ms/step - loss: 0.4180 - accuracy: 0.8514 - val_loss: 0.8252 - val_accuracy: 0.7013\n"
     ]
    }
   ],
   "source": [
    "# Compiling the model\n",
    "hybrid_cnn_lstm_model.compile(loss='categorical_crossentropy',\n",
    "                 optimizer=hybrid_cnn_lstm_optimizer,\n",
    "                 metrics=['accuracy'])\n",
    "\n",
    "# Training and validating the model\n",
    "hybrid_cnn_lstm_model_results = hybrid_cnn_lstm_model.fit(x_train,\n",
    "             y_train,\n",
    "             batch_size=64,\n",
    "             epochs=epochs,\n",
    "             validation_data=(x_valid, y_valid), verbose=True)\n",
    "\n"
   ]
  },
  {
   "cell_type": "code",
   "execution_count": 24,
   "metadata": {},
   "outputs": [
    {
     "data": {
      "image/png": "[encoded data removed]",
      "text/plain": [
       "<Figure size 432x288 with 1 Axes>"
      ]
     },
     "metadata": {
      "needs_background": "light"
     },
     "output_type": "display_data"
    },
    {
     "data": {
      "image/png": "[encoded data removed]",
      "text/plain": [
       "<Figure size 432x288 with 1 Axes>"
      ]
     },
     "metadata": {
      "needs_background": "light"
     },
     "output_type": "display_data"
    }
   ],
   "source": [
    "import matplotlib.pyplot as plt\n",
    "\n",
    "# Plotting accuracy trajectory\n",
    "plt.plot(hybrid_cnn_lstm_model_results.history['accuracy'])\n",
    "plt.plot(hybrid_cnn_lstm_model_results.history['val_accuracy'])\n",
    "plt.title('Hybrid CNN-LSTM model accuracy trajectory')\n",
    "plt.ylabel('accuracy')\n",
    "plt.xlabel('epoch')\n",
    "plt.legend(['train', 'val'], loc='upper left')\n",
    "plt.show()\n",
    "\n",
    "# Plotting loss trajectory\n",
    "plt.plot(hybrid_cnn_lstm_model_results.history['loss'],'o')\n",
    "plt.plot(hybrid_cnn_lstm_model_results.history['val_loss'],'o')\n",
    "plt.title('Hybrid CNN-LSTM model loss trajectory')\n",
    "plt.ylabel('loss')\n",
    "plt.xlabel('epoch')\n",
    "plt.legend(['train', 'val'], loc='upper left')\n",
    "plt.show()"
   ]
  },
  {
   "cell_type": "code",
   "execution_count": 25,
   "metadata": {},
   "outputs": [
    {
     "data": {
      "text/plain": [
       "(200, 250, 1, 22)"
      ]
     },
     "execution_count": 25,
     "metadata": {},
     "output_type": "execute_result"
    }
   ],
   "source": [
    "x_test.shape"
   ]
  },
  {
   "cell_type": "code",
   "execution_count": 29,
   "metadata": {},
   "outputs": [
    {
     "name": "stdout",
     "output_type": "stream",
     "text": [
      "before (200, 250, 1, 22)\n",
      "Test accuracy of the hybrid CNN-LSTM model: 0.5049999952316284\n",
      "after (200, 250, 1, 22)\n"
     ]
    }
   ],
   "source": [
    "## Testing the hybrid CNN-LSTM model\n",
    "print(f\"before {x_test.shape}\") #Double chekcing on dimensions \n",
    "hybrid_cnn_lstm_score = hybrid_cnn_lstm_model.evaluate(x_test, y_test, verbose=0)\n",
    "\n",
    "print('Test accuracy of the hybrid CNN-LSTM model:',hybrid_cnn_lstm_score[1])\n",
    "print(f\"after {x_test.shape}\") #Double chekcing on dimensions"
   ]
  },
  {
   "cell_type": "code",
   "execution_count": 27,
   "metadata": {},
   "outputs": [
    {
     "name": "stdout",
     "output_type": "stream",
     "text": [
      "7/7 [==============================] - 6s 94ms/step\n"
     ]
    },
    {
     "data": {
      "image/png": "[encoded data removed]",
      "text/plain": [
       "<Figure size 432x288 with 2 Axes>"
      ]
     },
     "metadata": {
      "needs_background": "light"
     },
     "output_type": "display_data"
    }
   ],
   "source": [
    "from sklearn.metrics import confusion_matrix, ConfusionMatrixDisplay\n",
    "import numpy as np\n",
    "import matplotlib.pyplot as plt\n",
    "\n",
    "# Predict on test data\n",
    "y_pred = hybrid_cnn_lstm_model.predict(x_test)\n",
    "y_pred_labels = np.argmax(y_pred, axis=1)\n",
    "y_true_labels = np.argmax(y_test, axis=1)\n",
    "\n",
    "# Compute confusion matrix\n",
    "conf_mat = confusion_matrix(y_true_labels, y_pred_labels)\n",
    "\n",
    "# Display confusion matrix\n",
    "classes = ['class1', 'class2', 'class3', 'class4']\n",
    "disp = ConfusionMatrixDisplay(confusion_matrix=conf_mat, display_labels=classes)\n",
    "disp.plot()\n",
    "plt.show()"
   ]
  },
  {
   "cell_type": "code",
   "execution_count": 28,
   "metadata": {},
   "outputs": [
    {
     "name": "stdout",
     "output_type": "stream",
     "text": [
      "7/7 [==============================] - 1s 80ms/step\n",
      "              precision    recall  f1-score   support\n",
      "\n",
      "      class1       0.59      0.50      0.54        48\n",
      "      class2       0.56      0.67      0.61        48\n",
      "      class3       0.48      0.38      0.42        56\n",
      "      class4       0.41      0.50      0.45        48\n",
      "\n",
      "    accuracy                           0.51       200\n",
      "   macro avg       0.51      0.51      0.51       200\n",
      "weighted avg       0.51      0.51      0.50       200\n",
      "\n"
     ]
    }
   ],
   "source": [
    "from sklearn.metrics import classification_report\n",
    "import numpy as np\n",
    "\n",
    "# Predict on test data\n",
    "y_pred = hybrid_cnn_lstm_model.predict(x_test)\n",
    "y_pred_labels = np.argmax(y_pred, axis=1)\n",
    "y_true_labels = np.argmax(y_test, axis=1)\n",
    "\n",
    "# Generate classification report\n",
    "target_names = ['class1', 'class2', 'class3', 'class4']\n",
    "report = classification_report(y_true_labels, y_pred_labels, target_names=target_names)\n",
    "\n",
    "# Print classification report\n",
    "print(report)\n"
   ]
  },
  {
   "cell_type": "code",
   "execution_count": null,
   "metadata": {},
   "outputs": [],
   "source": []
  }
 ],
 "metadata": {
  "kernelspec": {
   "display_name": "Python 3 (ipykernel)",
   "language": "python",
   "name": "python3"
  },
  "language_info": {
   "codemirror_mode": {
    "name": "ipython",
    "version": 3
   },
   "file_extension": ".py",
   "mimetype": "text/x-python",
   "name": "python",
   "nbconvert_exporter": "python",
   "pygments_lexer": "ipython3",
   "version": "3.9.12"
  }
 },
 "nbformat": 4,
 "nbformat_minor": 2
}
